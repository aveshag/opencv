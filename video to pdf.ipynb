{
 "cells": [
  {
   "cell_type": "code",
   "execution_count": 1,
   "metadata": {},
   "outputs": [
    {
     "name": "stdout",
     "output_type": "stream",
     "text": [
      "964\n",
      "15\n"
     ]
    }
   ],
   "source": [
    "import cv2\n",
    "import os\n",
    "import numpy as np\n",
    "import imutils\n",
    "import img2pdf\n",
    "import glob\n",
    "\n",
    "cap = cv2.VideoCapture(\"add.mp4\")\n",
    "\n",
    "count = int(cap.get(cv2.CAP_PROP_FRAME_COUNT))\n",
    "winname = \"image\"\n",
    "\n",
    "cv2.namedWindow(winname, flags = cv2.WINDOW_AUTOSIZE)\n",
    "cv2.moveWindow(winname, 200, 100)\n",
    "\n",
    "count1 = 0\n",
    "\n",
    "try:\n",
    "    os.system(\"rm -rf imgpdf\")\n",
    "except:\n",
    "    pass\n",
    "\n",
    "os.mkdir(\"imgpdf\")\n",
    "success, img = cap.read()\n",
    "img = imutils.resize(img, width=800)\n",
    "img1 = img.copy()\n",
    "\n",
    "while True:\n",
    "    success, img = cap.read()\n",
    "    \n",
    "    if success:\n",
    "        img = imutils.resize(img, width=800)\n",
    "        \n",
    "        difference = cv2.subtract(img, img1)\n",
    "        b, g, r = cv2.split(difference)\n",
    "        \n",
    "        b = abs(b)\n",
    "        g = abs(g)\n",
    "        r = abs(r)\n",
    "\n",
    "        if (cv2.countNonZero(b) > 3000) and (cv2.countNonZero(g) > 3000) and (cv2.countNonZero(r) > 3000):\n",
    "            count1 += 1\n",
    "            cv2.imwrite(\"imgpdf/\" + str(count1) + \".png\", img1)\n",
    "\n",
    "        img1=img.copy()\n",
    "        cv2.imshow(winname,img)\n",
    "        \n",
    "        if (cv2.waitKey(1) & 0xFF) == ord('q'):  # close on presssing q\n",
    "            break\n",
    "    else:\n",
    "        break\n",
    "\n",
    "cv2.imwrite(\"imgpdf/\" + str(count1) + \".png\", img1)\n",
    "cap.release()\n",
    "cv2.destroyAllWindows()\n",
    "\n",
    "print(count)\n",
    "print(count1)\n",
    "\n",
    "with open(\"name.pdf\",\"wb\") as f:\n",
    "    files = sorted(glob.glob(\"imgpdf/*.png\"), key = lambda x: (len (x), x))\n",
    "    f.write(img2pdf.convert(files))"
   ]
  },
  {
   "cell_type": "code",
   "execution_count": null,
   "metadata": {},
   "outputs": [],
   "source": []
  }
 ],
 "metadata": {
  "kernelspec": {
   "display_name": "Python 3",
   "language": "python",
   "name": "python3"
  },
  "language_info": {
   "codemirror_mode": {
    "name": "ipython",
    "version": 3
   },
   "file_extension": ".py",
   "mimetype": "text/x-python",
   "name": "python",
   "nbconvert_exporter": "python",
   "pygments_lexer": "ipython3",
   "version": "3.7.3"
  }
 },
 "nbformat": 4,
 "nbformat_minor": 4
}
