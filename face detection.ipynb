{
 "cells": [
  {
   "cell_type": "code",
   "execution_count": 1,
   "metadata": {},
   "outputs": [],
   "source": [
    "# face detection\n",
    "# viola and jones method\n",
    "# positive faces and negative non faces to train model\n",
    "# save into casade file(XML)\n",
    "# we are using pre-trained cascade file\n",
    "\n",
    "import cv2\n",
    "import numpy as np\n",
    "\n",
    "facecascade = cv2.CascadeClassifier(\"haarcascade_frontalface_default.xml\")\n",
    "\n",
    "cap = cv2.VideoCapture(0)\n",
    "cap.set(3,640)\n",
    "cap.set(4,480)\n",
    "\n",
    "while True:\n",
    "    success, img = cap.read() # success: image read successful or not\n",
    "\n",
    "    imggray = cv2.cvtColor(img, cv2.COLOR_BGR2GRAY)\n",
    "\n",
    "    faces = facecascade.detectMultiScale(imggray,1.1, 5)\n",
    "\n",
    "    for (x,y,w,h) in faces:\n",
    "        cv2.rectangle(img, (x-5,y-30),(x+w+5,y+h+5), (255,0,0), 3)\n",
    "\n",
    "    cv2.imshow(\"image\", img)\n",
    "    if (cv2.waitKey(1) & 0xFF) == ord('q'):  # close on presssing q\n",
    "        cv2.destroyAllWindows()\n",
    "        break;\n",
    "        \n",
    "cap.release()"
   ]
  },
  {
   "cell_type": "code",
   "execution_count": null,
   "metadata": {},
   "outputs": [],
   "source": []
  }
 ],
 "metadata": {
  "kernelspec": {
   "display_name": "Python 3",
   "language": "python",
   "name": "python3"
  },
  "language_info": {
   "codemirror_mode": {
    "name": "ipython",
    "version": 3
   },
   "file_extension": ".py",
   "mimetype": "text/x-python",
   "name": "python",
   "nbconvert_exporter": "python",
   "pygments_lexer": "ipython3",
   "version": "3.7.3"
  }
 },
 "nbformat": 4,
 "nbformat_minor": 2
}
