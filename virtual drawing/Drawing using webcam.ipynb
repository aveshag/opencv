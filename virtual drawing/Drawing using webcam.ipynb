{
 "cells": [
  {
   "cell_type": "code",
   "execution_count": 1,
   "metadata": {},
   "outputs": [],
   "source": [
    "import cv2\n",
    "import numpy as np\n",
    "\n",
    "# hsv range for markers\n",
    "hsvcolors = [[119,87,192,179,193,255],\n",
    "             [85,118,173,159,177,255],\n",
    "             [0,65,182,47,153,255]]\n",
    "\n",
    "# color for markers\n",
    "colorvalues = [[0,255,0],   # bgr\n",
    "               [255,0,0],\n",
    "               [0,0,255]]"
   ]
  },
  {
   "cell_type": "code",
   "execution_count": 2,
   "metadata": {},
   "outputs": [],
   "source": [
    "# return the coordinates and rgb color of marker detected\n",
    "\n",
    "def findcolor(img, hsvcolors, colorvalues):\n",
    "    imghsv = cv2.cvtColor(img,cv2.COLOR_BGR2HSV)\n",
    "    count = 0\n",
    "    newpoints =[]\n",
    "    # check for every marker's color\n",
    "    for color in hsvcolors:\n",
    "        lower = np.array(color[0:3])\n",
    "        upper = np.array(color[3:6])\n",
    "        mask = cv2.inRange(imghsv, lower, upper)\n",
    "        x,y = getContours(mask)\n",
    "        if x != 0 and y != 0:\n",
    "            newpoints.append([x,y,count])\n",
    "        count += 1\n",
    "    return newpoints"
   ]
  },
  {
   "cell_type": "code",
   "execution_count": 3,
   "metadata": {},
   "outputs": [],
   "source": [
    "# find coordinates of marker\n",
    "\n",
    "def getContours(img):\n",
    "    contours, hierarchy = cv2.findContours(img, cv2.RETR_EXTERNAL, cv2.CHAIN_APPROX_NONE)\n",
    "    x,y,w,h = 0,0,0,0\n",
    "    for cnt in contours:\n",
    "        area = cv2.contourArea(cnt)\n",
    "        if area > 200:\n",
    "            peri = cv2.arcLength(cnt, True)\n",
    "            epsilon = 0.1*peri\n",
    "            approx = cv2.approxPolyDP(cnt,epsilon,True)\n",
    "\n",
    "            x,y,w,h = cv2.boundingRect(approx)\n",
    "    return x+w//2,y+h//2 # middle point"
   ]
  },
  {
   "cell_type": "code",
   "execution_count": 4,
   "metadata": {},
   "outputs": [],
   "source": [
    "# draw on background\n",
    "\n",
    "def drawoncanvas(points, colorvalues):\n",
    "    for point in points:\n",
    "        cv2.circle(imgresult, (point[0],point[1]) , 5, colorvalues[point[2]], cv2.FILLED)"
   ]
  },
  {
   "cell_type": "code",
   "execution_count": 5,
   "metadata": {},
   "outputs": [],
   "source": [
    "cap = cv2.VideoCapture(0)\n",
    "\n",
    "cap.set(3,640) # width\n",
    "cap.set(4,480) # height\n",
    "cap.set(10,150) # brightness\n",
    "\n",
    "# to keep history of points which was drawn earlier \n",
    "# because image visible to us keep on changing for every frame \n",
    "\n",
    "pastpoints = [] # [x,y,colorindex]\n",
    "\n",
    "while True:\n",
    "    success, img = cap.read() # success: image read successfully or not\n",
    "    \n",
    "    # white background\n",
    "    imgresult = np.empty((img.shape))\n",
    "    imgresult.fill(255)\n",
    "    \n",
    "    newpoints = findcolor(img, hsvcolors, colorvalues)\n",
    "    \n",
    "    if len(newpoints)!=0:\n",
    "        for newp in newpoints:\n",
    "            pastpoints.append(newp)\n",
    "            \n",
    "    if len(pastpoints)!=0:\n",
    "        drawoncanvas(pastpoints, colorvalues)\n",
    "        \n",
    "    cv2.imshow(\"Video\",imgresult)\n",
    "    \n",
    "    if (cv2.waitKey(5) & 0xFF) == ord('q'):  # close on presssing q\n",
    "        cv2.destroyAllWindows()\n",
    "        break;\n",
    "        \n",
    "cap.release()"
   ]
  },
  {
   "cell_type": "code",
   "execution_count": null,
   "metadata": {},
   "outputs": [],
   "source": []
  }
 ],
 "metadata": {
  "kernelspec": {
   "display_name": "Python 3",
   "language": "python",
   "name": "python3"
  },
  "language_info": {
   "codemirror_mode": {
    "name": "ipython",
    "version": 3
   },
   "file_extension": ".py",
   "mimetype": "text/x-python",
   "name": "python",
   "nbconvert_exporter": "python",
   "pygments_lexer": "ipython3",
   "version": "3.7.3"
  }
 },
 "nbformat": 4,
 "nbformat_minor": 2
}
