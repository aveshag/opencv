{
 "cells": [
  {
   "cell_type": "code",
   "execution_count": 2,
   "metadata": {},
   "outputs": [],
   "source": [
    "# detect color\n",
    "def empty(x):\n",
    "    pass\n",
    "\n",
    "import cv2\n",
    "import numpy as np\n",
    "\n",
    "cap = cv2.VideoCapture(0)\n",
    "cap.set(3,640)\n",
    "cap.set(4,480)\n",
    "\n",
    "cv2.namedWindow(\"Trackbars\")\n",
    "cv2.resizeWindow(\"Trackbars\", 640,240)\n",
    "cv2.createTrackbar(\"HueMin\", \"Trackbars\", 119, 256, empty)\n",
    "cv2.createTrackbar(\"HueMax\", \"Trackbars\", 179, 256, empty)\n",
    "cv2.createTrackbar(\"SatMin\", \"Trackbars\", 87, 255, empty)\n",
    "cv2.createTrackbar(\"SatMax\", \"Trackbars\", 193, 255, empty)\n",
    "cv2.createTrackbar(\"ValMin\", \"Trackbars\", 192, 255, empty)\n",
    "cv2.createTrackbar(\"ValMax\", \"Trackbars\", 255, 255, empty)\n",
    "\n",
    "\n",
    "while True:\n",
    "    success, img = cap.read() # success: image read successful or not\n",
    "#     cv2.imshow(\"Video\",img)\n",
    "    \n",
    "    imghsv = cv2.cvtColor(img,cv2.COLOR_BGR2HSV)\n",
    "    \n",
    "    h_min = cv2.getTrackbarPos(\"HueMin\", \"Trackbars\")\n",
    "    h_max = cv2.getTrackbarPos(\"HueMax\", \"Trackbars\")\n",
    "    s_min = cv2.getTrackbarPos(\"SatMin\", \"Trackbars\")\n",
    "    s_max = cv2.getTrackbarPos(\"SatMax\", \"Trackbars\")\n",
    "    v_min = cv2.getTrackbarPos(\"ValMin\", \"Trackbars\")\n",
    "    v_max = cv2.getTrackbarPos(\"ValMax\", \"Trackbars\")\n",
    "    \n",
    "    lower = np.array([h_min, s_min, v_min])\n",
    "    upper = np.array([h_max, s_max, v_max])\n",
    "    \n",
    "    mask = cv2.inRange(imghsv, lower, upper)\n",
    "    imgres = cv2.bitwise_and(img, img, mask = mask)\n",
    "    \n",
    "    maskbgr = cv2.cvtColor(mask,cv2.COLOR_GRAY2BGR)\n",
    "    \n",
    "    images = np.hstack((img, imgres, maskbgr))\n",
    "    images = cv2.resize(images, (640,360))\n",
    "    \n",
    "    cv2.imshow(\"Images\", images)\n",
    "    \n",
    "    if (cv2.waitKey(1) & 0xFF) == ord('q'):\n",
    "        cv2.destroyAllWindows()\n",
    "        break;\n",
    "        \n",
    "cap.release()"
   ]
  },
  {
   "cell_type": "code",
   "execution_count": null,
   "metadata": {},
   "outputs": [],
   "source": []
  }
 ],
 "metadata": {
  "kernelspec": {
   "display_name": "Python 3",
   "language": "python",
   "name": "python3"
  },
  "language_info": {
   "codemirror_mode": {
    "name": "ipython",
    "version": 3
   },
   "file_extension": ".py",
   "mimetype": "text/x-python",
   "name": "python",
   "nbconvert_exporter": "python",
   "pygments_lexer": "ipython3",
   "version": "3.7.3"
  }
 },
 "nbformat": 4,
 "nbformat_minor": 2
}
